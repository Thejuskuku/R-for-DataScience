{
  "nbformat": 4,
  "nbformat_minor": 0,
  "metadata": {
    "colab": {
      "provenance": [],
      "authorship_tag": "ABX9TyN8Irs1cI9Wu0Qw1Is+A4CN",
      "include_colab_link": true
    },
    "kernelspec": {
      "name": "ir",
      "display_name": "R"
    },
    "language_info": {
      "name": "R"
    }
  },
  "cells": [
    {
      "cell_type": "markdown",
      "metadata": {
        "id": "view-in-github",
        "colab_type": "text"
      },
      "source": [
        "<a href=\"https://colab.research.google.com/github/Thejuskuku/R-for-DataScience/blob/main/R1.ipynb\" target=\"_parent\"><img src=\"https://colab.research.google.com/assets/colab-badge.svg\" alt=\"Open In Colab\"/></a>"
      ]
    },
    {
      "cell_type": "code",
      "execution_count": 4,
      "metadata": {
        "colab": {
          "base_uri": "https://localhost:8080/"
        },
        "id": "kVZtCtyd4LkI",
        "outputId": "780bd745-db48-459e-c09f-f66c20012f82"
      },
      "outputs": [
        {
          "output_type": "stream",
          "name": "stdout",
          "text": [
            "Total number of words: 18 \n",
            "Average word length: 6.555556 \n",
            "Longest word: visualization \n",
            "Paragraph after replacement:\n",
            " R is a powerful programming language and free software environment designed specifically for statistical computing and data visualization. \n"
          ]
        }
      ],
      "source": [
        "#Develop a program to read a paragraph of text and perform the following tasks:\n",
        "#  a. Count the total number of words.\n",
        "#  b. Calculate the average word length.\n",
        "#  c. Identify and print the longest word.\n",
        "#  d. Replace all occurrences of a specific word with another word of your choice.\n",
        "\n",
        "process_paragraph <- function(paragraph, word_to_replace, replacement_word) {\n",
        "\n",
        "  words <- unlist(strsplit(paragraph, \"\\\\W+\"))\n",
        "  words <- words[words != \"\"]\n",
        "\n",
        "  total_words <- length(words)\n",
        "\n",
        "  word_lengths <- nchar(words)\n",
        "  avg_word_length <- mean(word_lengths)\n",
        "\n",
        "  longest_word <- words[which.max(word_lengths)]\n",
        "\n",
        "  replaced_paragraph <- gsub(paste0(\"\\\\b\", word_to_replace, \"\\\\b\"), replacement_word, paragraph)\n",
        "\n",
        "  cat(\"Total number of words:\", total_words, \"\\n\")\n",
        "  cat(\"Average word length:\", avg_word_length, \"\\n\")\n",
        "  cat(\"Longest word:\", longest_word, \"\\n\")\n",
        "  cat(\"Paragraph after replacement:\\n\", replaced_paragraph, \"\\n\")\n",
        "}\n",
        "\n",
        "paragraph <- \"R is a useful programming language and free software environment designed specifically for statistical computing and data visualization.\"\n",
        "word_to_replace <- \"useful\"\n",
        "replacement_word <- \"powerful\"\n",
        "\n",
        "process_paragraph(paragraph, word_to_replace, replacement_word)\n"
      ]
    },
    {
      "cell_type": "code",
      "source": [
        "#String Encryption Write a program that reads a sentence from the user and encrypts it using a simple Caesar cipher. The user can specify the\n",
        "#shift value. Implement the encryption such that only alphabetic characters are shifted, while maintaining their case.\n",
        "\n",
        "caesar_cipher <- function(text, shift) {\n",
        "  codes <- utf8ToInt(text)\n",
        "\n",
        "  a <- utf8ToInt('a')\n",
        "  z <- utf8ToInt('z')\n",
        "  A <- utf8ToInt('A')\n",
        "  Z <- utf8ToInt('Z')\n",
        "\n",
        "  lower_chars <- codes >= a & codes <= z\n",
        "  codes[lower_chars] <- ((codes[lower_chars] - a + shift) %% 26) + a\n",
        "\n",
        "  upper_chars <- codes >= A & codes <= Z\n",
        "  codes[upper_chars] <- ((codes[upper_chars] - A + shift) %% 26) + A\n",
        "\n",
        "  return(intToUtf8(codes))\n",
        "}\n",
        "\n",
        "sentence <- readline(prompt = \"Enter a sentence: \")\n",
        "shift_value <- as.integer(readline(prompt = \"Enter shift value: \"))\n",
        "\n",
        "encrypted_sentence <- caesar_cipher(sentence, shift_value)\n",
        "\n",
        "cat(\"\\nOriginal Sentence: \", sentence, \"\\n\")\n",
        "cat(\"Encrypted Sentence:\", encrypted_sentence, \"\\n\")"
      ],
      "metadata": {
        "colab": {
          "base_uri": "https://localhost:8080/"
        },
        "id": "_dXrwPOzVkDo",
        "outputId": "82feeb47-ea7d-4740-c3aa-5679f10ae9e6"
      },
      "execution_count": 5,
      "outputs": [
        {
          "output_type": "stream",
          "name": "stdout",
          "text": [
            "Enter a sentence: Hello, World! 123\n",
            "Enter shift value: 3\n",
            "\n",
            "Original Sentence:  Hello, World! 123 \n",
            "Encrypted Sentence: Khoor, Zruog! 123 \n"
          ]
        }
      ]
    },
    {
      "cell_type": "code",
      "source": [
        "#Data Validation and User Input Develop a program to read student records with their names, ages, and grades. Implement validation\n",
        "#checks: a. Ensure age is a positive integer. b. Ensure grade is a valid letter grade (A, B, C, D, F). c. Calculate and display the average age\n",
        "#of students with valid records.\n",
        "\n",
        "is_positive_integer <- function(x) {\n",
        "  !is.na(as.integer(x)) && as.integer(x) > 0 && x == as.character(as.integer(x))\n",
        "}\n",
        "\n",
        "is_valid_grade <- function(grade) {\n",
        "  toupper(grade) %in% c(\"A\", \"B\", \"C\", \"D\", \"F\")\n",
        "}\n",
        "\n",
        "repeat {\n",
        "  num_students <- suppressWarnings(as.integer(readline(prompt = \"Enter number of students: \")))\n",
        "  if (!is.na(num_students) && num_students > 0) break\n",
        "  cat(\"Please enter a valid positive integer.\\n\")\n",
        "}\n",
        "\n",
        "students <- data.frame(Name = character(),\n",
        "                       Age = integer(),\n",
        "                       Grade = character(),\n",
        "                       stringsAsFactors = FALSE)\n",
        "\n",
        "for (i in 1:num_students) {\n",
        "  cat(\"\\n--- Enter details for Student\", i, \"---\\n\")\n",
        "\n",
        "  name <- readline(prompt = \"Enter name: \")\n",
        "  age <- readline(prompt = \"Enter age: \")\n",
        "  grade <- readline(prompt = \"Enter grade (A/B/C/D/F): \")\n",
        "\n",
        "  if (!is_positive_integer(age)) {\n",
        "    cat(\"Invalid age. Record skipped.\\n\")\n",
        "    next\n",
        "  }\n",
        "\n",
        "  if (!is_valid_grade(grade)) {\n",
        "    cat(\"Invalid grade. Record skipped.\\n\")\n",
        "    next\n",
        "  }\n",
        "\n",
        "  students <- rbind(students,\n",
        "                    data.frame(Name = name,\n",
        "                               Age = as.integer(age),\n",
        "                               Grade = toupper(grade),\n",
        "                               stringsAsFactors = FALSE))\n",
        "  cat(\"Record saved.\\n\")\n",
        "}\n",
        "\n",
        "cat(\"\\nValid Student Records:\\n\")\n",
        "print(students)\n",
        "\n",
        "if (nrow(students) > 0) {\n",
        "  avg_age <- mean(students$Age)\n",
        "  cat(\"\\nAverage Age of Valid Students:\", round(avg_age, 2), \"\\n\")\n",
        "} else {\n",
        "  cat(\"\\nNo valid student records found.\\n\")\n",
        "}"
      ],
      "metadata": {
        "id": "uG39zutAWOqg"
      },
      "execution_count": null,
      "outputs": []
    },
    {
      "cell_type": "code",
      "source": [
        "Password Generator Write a program to generate a random password\n",
        "for a user. The password should include a mix of uppercase letters,\n",
        "lowercase letters, digits, and special characters. Allow the user to\n",
        "specify the length of the password.\n",
        "-----------------------------------------------------------------------------------------------\n",
        "generate_password <-function(length){\n",
        "  {\n",
        "    password <- \"\"\n",
        "    all_chars<-intToUtf8(33:126, multiple = TRUE)\n",
        "    uppercase <-LETTERS\n",
        "    lowercase <-letters\n",
        "    numbers <- as.character(0:9)\n",
        "    special <- setdiff(all_chars,c(uppercase, lowercase, numbers))\n",
        "    mandatory <- c(sample(uppercase,1),sample(lowercase, 1), sample(numbers,1), sample(special, 1))\n",
        "    remaining <- sample(c(uppercase,lowercase,special,numbers),length-length(mandatory), replace = TRUE)\n",
        "    password <-paste0(password,sample(c(remaining, mandatory)),collapse = \"\")\n",
        "    return (password)\n",
        "  }\n",
        "\n",
        "}\n",
        "len <- as.numeric(readline(prompt = \"Enter the length off the password (should be 8 or above 8):\"))\n",
        "if (len >=8){\n",
        "  cat(\"Password generated:\",generate_password(len))\n",
        "}else{\n",
        "    cat(\"The length of the password should be 8 or greater than 8\")\n",
        "}"
      ],
      "metadata": {
        "id": "e7lZMkG5WdFU"
      },
      "execution_count": null,
      "outputs": []
    },
    {
      "cell_type": "code",
      "source": [
        "Series Summation Develop a program to calculate the sum of the\n",
        "series: 1 - 2/3 + 3/5 - 4/7 + ... up to a specified number of terms. Allow\n",
        "the user to input the number of terms in the series.\n",
        "---------------------------------------------------------------------------------\n",
        "series_generator <-function(terms){\n",
        "  num=1\n",
        "  den=1\n",
        "  t=(num/den)\n",
        "  if (terms==0 || terms==1){\n",
        "    return (1)\n",
        "  } else{\n",
        "    for (i in 2:terms){\n",
        "        num=num+1\n",
        "        den=num*2-1\n",
        "      if (i%%2 ==0){\n",
        "\n",
        "        t=t-(num/den)\n",
        "      }\n",
        "      else{\n",
        "        t=t+(num/den)\n",
        "      }\n",
        "    }\n",
        "  }\n",
        "  return(t)\n",
        "}\n",
        "t=as.numeric(readline(prompt=\"Enter the number of terms:\"))\n",
        "cat(\"The sum of the series: 1 - 2/3 + 3/5 - 4/7 +.... upto\",t,\"is:\",series_generator(t))"
      ],
      "metadata": {
        "id": "atQQp2PVWi5X"
      },
      "execution_count": null,
      "outputs": []
    },
    {
      "cell_type": "code",
      "source": [
        "Prime Number Checker Write a program to check whether a given\n",
        "number is prime or not. Implement this using both loops and functions.\n",
        "Additionally, allow the user to input a range and identify all prime\n",
        "numbers within that range.\n",
        "------------------------------------------------------------------------\n",
        "check_prime <- function(num){\n",
        "  count=0\n",
        "  if (num<=1){\n",
        "      return (FALSE)\n",
        "    }\n",
        "  for( i in 1:num){\n",
        "\n",
        "    if (num%%i==0){\n",
        "      count=count+1\n",
        "    }\n",
        "  }\n",
        "  if (count<=2){\n",
        "    return (TRUE)\n",
        "  } else{\n",
        "    return(FALSE)\n",
        "  }\n",
        "\n",
        "}\n",
        "n=as.numeric(readline(prompt =\"Enter the number to check whether its prime or not:\" ))\n",
        "cat(check_prime(n),\"\\n\")\n",
        "\n",
        "no = as.numeric(readline(prompt=\"Enter a number: \"))\n",
        "\n",
        "if (no <= 1) {\n",
        "  cat(\"Not a prime number\\n\")\n",
        "} else {\n",
        "  is_prime <- TRUE\n",
        "  for (i in 2:(no-1)) {\n",
        "    if (no %% i == 0) {\n",
        "      cat(\"The number is NOT prime\\n\")\n",
        "      is_prime <- FALSE\n",
        "      break\n",
        "    }\n",
        "  }\n",
        "  if (is_prime) {\n",
        "    cat(\"The number is PRIME\\n\")\n",
        "  }\n",
        "}\n",
        "\n",
        "range_prime <- function (num1,num2){\n",
        "  count=0\n",
        "  if (num1<=1  && num2<=1){\n",
        "    cat(\"There are no prime numbers in the given range\")\n",
        "  }else{\n",
        "    count = 0\n",
        "    for (i in num1:num2){\n",
        "      if (check_prime(i)){\n",
        "        cat(i,\" \")\n",
        "      }\n",
        "    }\n",
        " }\n",
        " cat(\"\\n\")\n",
        "}\n",
        "up=as.numeric(readline(prompt=\"Enter the upper limit:\"))\n",
        "low=as.numeric(readline(prompt = \"Enter the lower limit:\"))\n",
        "range_prime(up,low)"
      ],
      "metadata": {
        "id": "Zpu4Y45pWkBp"
      },
      "execution_count": null,
      "outputs": []
    },
    {
      "cell_type": "code",
      "source": [
        "Fibonacci Series with a Twist Develop a program to generate the\n",
        "Fibonacci series, but with a twist. Allow the user to input the number of\n",
        "terms and generate the series where each term is the sum of the last\n",
        "three terms.\n",
        "------------------------------------------------------------------------------------\n",
        "fib <- function (terms){\n",
        "  t0=0\n",
        "  t1=1\n",
        "  t2=1\n",
        "  if (terms >= 1) cat(t0, \" \")\n",
        "  if (terms >= 2) cat(t1, \" \")\n",
        "  if (terms >= 3) cat(t2, \" \")\n",
        "  if (terms>3){\n",
        "    for (i in 3:(terms-1)){\n",
        "\n",
        "      t=t0+t1+t2\n",
        "      cat(t,\" \")\n",
        "      t0=t1\n",
        "      t1=t2\n",
        "      t2=t\n",
        "\n",
        "    }\n",
        "    }\n",
        "}\n",
        "terms=as.numeric(readline(prompt = \"Enter the number of terms:\"))\n",
        "fib(terms)"
      ],
      "metadata": {
        "id": "3cBQjoW7WmUl"
      },
      "execution_count": null,
      "outputs": []
    },
    {
      "cell_type": "code",
      "source": [
        "Palindrome Checker Write a program that reads a string and checks if\n",
        "its a palindrome. A palindrome is a string that reads the same forwards\n",
        "and backwards, ignoring spaces and punctuation.\n",
        "---------------------------------------------------------------------------\n",
        "palindrome_checker <- function(string){\n",
        "  string_new <- tolower(gsub(\"[[:punct:] [:space:]]\",\"\",string))\n",
        "  string_vector <- unlist(strsplit(string_new,\"\"))\n",
        "  palindrome <- rev(string_vector)\n",
        "  palindrome_string <-paste(palindrome, collapse = \"\")\n",
        "  if (string_new==palindrome_string){\n",
        "    cat(\"The entered string is a palindrome\")\n",
        "  } else{\n",
        "    cat(\"The entered string is not a palindrome\")\n",
        "  }\n",
        "}\n",
        "palindrome_checker(\"malayalam\")"
      ],
      "metadata": {
        "id": "Bz48Er9DWpWD"
      },
      "execution_count": null,
      "outputs": []
    },
    {
      "cell_type": "code",
      "source": [
        "Data Compression Design a program to read a string and compress it\n",
        "using run-length encoding. In run-length encoding, consecutive\n",
        "repeated characters are replaced with a single character followed by\n",
        "the count of occurrences.\n",
        "---------------------------------------------------------------------------\n",
        "compression <- function(string){\n",
        "\n",
        "  occurence_vector <-c()\n",
        "  string_vector <-unlist(strsplit(string,\"\"))\n",
        "  for (i in (1:length(string_vector))){\n",
        "    occurrence <-0\n",
        "    char <-string_vector[i]\n",
        "    if(char %in% occurence_vector){\n",
        "      next\n",
        "    }\n",
        "    for (j in (1:length(string_vector))){\n",
        "      if (char==string_vector[j]){\n",
        "        occurrence=occurrence+1\n",
        "      }\n",
        "    }\n",
        "    occurence_vector <-c(occurence_vector,\" \",char,\":\",occurrence)\n",
        "  }\n",
        "  return(occurence_vector)\n",
        "}\n",
        "cat(compression(\"She speaks four languages\"))"
      ],
      "metadata": {
        "id": "W3ENc-FPWp8P"
      },
      "execution_count": null,
      "outputs": []
    },
    {
      "cell_type": "code",
      "source": [
        "Data Reversal Write a program to reverse the order of elements\n",
        "in a given list. Implement this without using any built-in functions or\n",
        "loops\n",
        "--------------------------------------------------------------------------\n",
        "reverse_list<-function(l){\n",
        "  if (length(l)==1 || length(l)==0){\n",
        "    return(l)\n",
        "  }\n",
        "  remaining_reversed <- reverse_list(l[-1])\n",
        "  return (c(remaining_reversed,l[1]))\n",
        "\n",
        "}\n",
        "cat(\"Reversed list:\",unlist(reverse_list(list(1,2,3,4))))"
      ],
      "metadata": {
        "id": "1B1TfoxjWrRz"
      },
      "execution_count": null,
      "outputs": []
    }
  ]
}
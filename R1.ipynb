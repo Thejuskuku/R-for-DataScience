{
  "nbformat": 4,
  "nbformat_minor": 0,
  "metadata": {
    "colab": {
      "provenance": [],
      "authorship_tag": "ABX9TyN4DP3LUbDTkavnT1dEcCQs",
      "include_colab_link": true
    },
    "kernelspec": {
      "name": "ir",
      "display_name": "R"
    },
    "language_info": {
      "name": "R"
    }
  },
  "cells": [
    {
      "cell_type": "markdown",
      "metadata": {
        "id": "view-in-github",
        "colab_type": "text"
      },
      "source": [
        "<a href=\"https://colab.research.google.com/github/Thejuskuku/R-for-DataScience/blob/main/R1.ipynb\" target=\"_parent\"><img src=\"https://colab.research.google.com/assets/colab-badge.svg\" alt=\"Open In Colab\"/></a>"
      ]
    },
    {
      "cell_type": "code",
      "execution_count": 6,
      "metadata": {
        "colab": {
          "base_uri": "https://localhost:8080/"
        },
        "id": "kVZtCtyd4LkI",
        "outputId": "2dc31a63-990f-4897-888f-872e7b60e2ab"
      },
      "outputs": [
        {
          "output_type": "stream",
          "name": "stdout",
          "text": [
            "Hello, world!\n",
            "[1] \"Hello, world\"\n"
          ]
        }
      ],
      "source": [
        "process_paragraph <- function(paragraph, word_to_replace, replacement_word) {\n",
        "\n",
        "  words <- unlist(strsplit(paragraph, \"\\\\W+\"))\n",
        "  words <- words[words != \"\"]\n",
        "\n",
        "  total_words <- length(words)\n",
        "\n",
        "  word_lengths <- nchar(words)\n",
        "  avg_word_length <- mean(word_lengths)\n",
        "\n",
        "  longest_word <- words[which.max(word_lengths)]\n",
        "\n",
        "  replaced_paragraph <- gsub(paste0(\"\\\\b\", word_to_replace, \"\\\\b\"), replacement_word, paragraph)\n",
        "\n",
        "  cat(\"Total number of words:\", total_words, \"\\n\")\n",
        "  cat(\"Average word length:\", avg_word_length, \"\\n\")\n",
        "  cat(\"Longest word:\", longest_word, \"\\n\")\n",
        "  cat(\"Paragraph after replacement:\\n\", replaced_paragraph, \"\\n\")\n",
        "}\n",
        "\n",
        "paragraph <- \"Develop a program to read a paragraph of text and perform the following tasks: a. Count the total number of words. b. Calculate the average word length. c. Identify and print the longest word. d. Replace all occurrences of a specific word with another word of your choice.\"\n",
        "word_to_replace <- \"word\"\n",
        "replacement_word <- \"term\"\n",
        "\n",
        "process_paragraph(paragraph, word_to_replace, replacement_word)\n"
      ]
    }
  ]
}
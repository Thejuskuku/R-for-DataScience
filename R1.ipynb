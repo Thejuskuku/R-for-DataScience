{
  "nbformat": 4,
  "nbformat_minor": 0,
  "metadata": {
    "colab": {
      "provenance": [],
      "authorship_tag": "ABX9TyP+5UwShabU5rpdgOs0LWB0",
      "include_colab_link": true
    },
    "kernelspec": {
      "name": "ir",
      "display_name": "R"
    },
    "language_info": {
      "name": "R"
    }
  },
  "cells": [
    {
      "cell_type": "markdown",
      "metadata": {
        "id": "view-in-github",
        "colab_type": "text"
      },
      "source": [
        "<a href=\"https://colab.research.google.com/github/Thejuskuku/R-for-DataScience/blob/main/R1.ipynb\" target=\"_parent\"><img src=\"https://colab.research.google.com/assets/colab-badge.svg\" alt=\"Open In Colab\"/></a>"
      ]
    },
    {
      "cell_type": "code",
      "execution_count": 4,
      "metadata": {
        "colab": {
          "base_uri": "https://localhost:8080/"
        },
        "id": "kVZtCtyd4LkI",
        "outputId": "780bd745-db48-459e-c09f-f66c20012f82"
      },
      "outputs": [
        {
          "output_type": "stream",
          "name": "stdout",
          "text": [
            "Total number of words: 18 \n",
            "Average word length: 6.555556 \n",
            "Longest word: visualization \n",
            "Paragraph after replacement:\n",
            " R is a powerful programming language and free software environment designed specifically for statistical computing and data visualization. \n"
          ]
        }
      ],
      "source": [
        "#Develop a program to read a paragraph of text and perform the following tasks:\n",
        "#  a. Count the total number of words.\n",
        "#  b. Calculate the average word length.\n",
        "#  c. Identify and print the longest word.\n",
        "#  d. Replace all occurrences of a specific word with another word of your choice.\n",
        "\n",
        "process_paragraph <- function(paragraph, word_to_replace, replacement_word) {\n",
        "\n",
        "  words <- unlist(strsplit(paragraph, \"\\\\W+\"))\n",
        "  words <- words[words != \"\"]\n",
        "\n",
        "  total_words <- length(words)\n",
        "\n",
        "  word_lengths <- nchar(words)\n",
        "  avg_word_length <- mean(word_lengths)\n",
        "\n",
        "  longest_word <- words[which.max(word_lengths)]\n",
        "\n",
        "  replaced_paragraph <- gsub(paste0(\"\\\\b\", word_to_replace, \"\\\\b\"), replacement_word, paragraph)\n",
        "\n",
        "  cat(\"Total number of words:\", total_words, \"\\n\")\n",
        "  cat(\"Average word length:\", avg_word_length, \"\\n\")\n",
        "  cat(\"Longest word:\", longest_word, \"\\n\")\n",
        "  cat(\"Paragraph after replacement:\\n\", replaced_paragraph, \"\\n\")\n",
        "}\n",
        "\n",
        "paragraph <- \"R is a useful programming language and free software environment designed specifically for statistical computing and data visualization.\"\n",
        "word_to_replace <- \"useful\"\n",
        "replacement_word <- \"powerful\"\n",
        "\n",
        "process_paragraph(paragraph, word_to_replace, replacement_word)\n"
      ]
    },
    {
      "cell_type": "code",
      "source": [
        "#String Encryption Write a program that reads a sentence from the user and encrypts it using a simple Caesar cipher. The user can specify the\n",
        "#shift value. Implement the encryption such that only alphabetic characters are shifted, while maintaining their case.\n",
        "\n",
        "caesar_cipher <- function(text, shift) {\n",
        "  codes <- utf8ToInt(text)\n",
        "\n",
        "  a <- utf8ToInt('a')\n",
        "  z <- utf8ToInt('z')\n",
        "  A <- utf8ToInt('A')\n",
        "  Z <- utf8ToInt('Z')\n",
        "\n",
        "  lower_chars <- codes >= a & codes <= z\n",
        "  codes[lower_chars] <- ((codes[lower_chars] - a + shift) %% 26) + a\n",
        "\n",
        "  upper_chars <- codes >= A & codes <= Z\n",
        "  codes[upper_chars] <- ((codes[upper_chars] - A + shift) %% 26) + A\n",
        "\n",
        "  return(intToUtf8(codes))\n",
        "}\n",
        "\n",
        "sentence <- readline(prompt = \"Enter a sentence: \")\n",
        "shift_value <- as.integer(readline(prompt = \"Enter shift value: \"))\n",
        "\n",
        "encrypted_sentence <- caesar_cipher(sentence, shift_value)\n",
        "\n",
        "cat(\"\\nOriginal Sentence: \", sentence, \"\\n\")\n",
        "cat(\"Encrypted Sentence:\", encrypted_sentence, \"\\n\")"
      ],
      "metadata": {
        "colab": {
          "base_uri": "https://localhost:8080/"
        },
        "id": "_dXrwPOzVkDo",
        "outputId": "82feeb47-ea7d-4740-c3aa-5679f10ae9e6"
      },
      "execution_count": 5,
      "outputs": [
        {
          "output_type": "stream",
          "name": "stdout",
          "text": [
            "Enter a sentence: Hello, World! 123\n",
            "Enter shift value: 3\n",
            "\n",
            "Original Sentence:  Hello, World! 123 \n",
            "Encrypted Sentence: Khoor, Zruog! 123 \n"
          ]
        }
      ]
    },
    {
      "cell_type": "code",
      "source": [
        "#Data Validation and User Input Develop a program to read student records with their names, ages, and grades. Implement validation\n",
        "#checks: a. Ensure age is a positive integer. b. Ensure grade is a valid letter grade (A, B, C, D, F). c. Calculate and display the average age\n",
        "#of students with valid records.\n",
        "\n",
        "is_positive_integer <- function(x) {\n",
        "  return(grepl(\"^\\\\d+$\", x) && as.integer(x) > 0)\n",
        "}\n",
        "\n",
        "is_valid_grade <- function(grade) {\n",
        "  return(toupper(grade) %in% c(\"A\", \"B\", \"C\", \"D\", \"F\"))\n",
        "}\n",
        "\n",
        "names_list <- list()\n",
        "ages_list <- list()\n",
        "grades_list <- list()\n",
        "\n",
        "cat(\"--- Student Record Entry ---\\n\")\n",
        "cat(\"Enter student details. Press [Enter] on a blank name to finish.\\n\\n\")\n",
        "\n",
        "while (TRUE) {\n",
        "  name <- readline(prompt = \"Enter name (or leave blank to finish): \")\n",
        "\n",
        "  if (name == \"\") {\n",
        "    break\n",
        "  }\n",
        "\n",
        "  age_input <- readline(prompt = \"Enter age: \")\n",
        "  grade_input <- readline(prompt = \"Enter grade (A/B/C/D/F): \")\n",
        "\n",
        "  if (!is_positive_integer(age_input)) {\n",
        "    cat(\"Error: Invalid age '\", age_input, \"'. Age must be a positive whole number. Record skipped.\\n\\n\", sep = \"\")\n",
        "    next\n",
        "  }\n",
        "\n",
        "  if (!is_valid_grade(grade_input)) {\n",
        "    cat(\"Error: Invalid grade '\", grade_input, \"'. Grade must be A, B, C, D, or F. Record skipped.\\n\\n\", sep = \"\")\n",
        "    next\n",
        "  }\n",
        "\n",
        "  names_list <- append(names_list, name)\n",
        "  ages_list <- append(ages_list, as.integer(age_input))\n",
        "  grades_list <- append(grades_list, toupper(grade_input))\n",
        "\n",
        "  cat(\"Success: Record for '\", name, \"' saved.\\n\\n\", sep = \"\")\n",
        "}\n",
        "\n",
        "if (length(names_list) > 0) {\n",
        "  students <- data.frame(\n",
        "    Name = unlist(names_list),\n",
        "    Age = unlist(ages_list),\n",
        "    Grade = unlist(grades_list)\n",
        "  )\n",
        "\n",
        "  cat(\"\\n--- Valid Student Records ---\\n\")\n",
        "  print(students)\n",
        "\n",
        "  avg_age <- mean(students$Age)\n",
        "  cat(\"\\nAverage Age of Valid Students:\", round(avg_age, 2), \"\\n\")\n",
        "\n",
        "} else {\n",
        "  cat(\"\\nNo valid student records were entered.\\n\")\n",
        "}"
      ],
      "metadata": {
        "colab": {
          "base_uri": "https://localhost:8080/"
        },
        "id": "uG39zutAWOqg",
        "outputId": "fadd5dbe-1242-434b-96fc-a48ad7ec8073"
      },
      "execution_count": 6,
      "outputs": [
        {
          "output_type": "stream",
          "name": "stdout",
          "text": [
            "--- Student Record Entry ---\n",
            "Enter student details. Press [Enter] on a blank name to finish.\n",
            "\n",
            "Enter name (or leave blank to finish): Thejus\n",
            "Enter age: 20\n",
            "Enter grade (A/B/C/D/F): A\n",
            "Enter name (or leave blank to finish): Bob\n",
            "Enter age: 21\n",
            "Enter grade (A/B/C/D/F): C\n",
            "Enter name (or leave blank to finish): \n",
            "Success: Record for 'Thejus' saved.\n",
            "\n",
            "Success: Record for 'Bob' saved.\n",
            "\n",
            "\n",
            "--- Valid Student Records ---\n",
            "    Name Age Grade\n",
            "1 Thejus  20     A\n",
            "2    Bob  21     C\n",
            "\n",
            "Average Age of Valid Students: 20.5 \n"
          ]
        }
      ]
    },
    {
      "cell_type": "code",
      "source": [
        "#Password Generator Write a program to generate a random password for a user. The password should include a mix of uppercase letters,\n",
        "#lowercase letters, digits, and special characters. Allow the user to specify the length of the password.\n",
        "\n",
        "generate_password <- function(length) {\n",
        "  lowercase_letters <- letters\n",
        "  uppercase_letters <- LETTERS\n",
        "  numbers <- 0:9\n",
        "  special_characters <- strsplit(\"!@#$%^&*()_+-=[]{}|;:,.<>/?~\", \"\")[[1]]\n",
        "\n",
        "  guaranteed_chars <- c(\n",
        "    sample(lowercase_letters, 1),\n",
        "    sample(uppercase_letters, 1),\n",
        "    sample(numbers, 1),\n",
        "    sample(special_characters, 1)\n",
        "  )\n",
        "  all_chars <- c(lowercase_letters, uppercase_letters, numbers, special_characters)\n",
        "  remaining_length <- length - length(guaranteed_chars)\n",
        "  remaining_chars <- sample(all_chars, remaining_length, replace = TRUE)\n",
        "  password_pool <- c(guaranteed_chars, remaining_chars)\n",
        "  final_password <- paste(sample(password_pool), collapse = \"\")\n",
        "  return(final_password)\n",
        "}\n",
        "\n",
        "repeat {\n",
        "  input <- readline(prompt = \"Enter password length (must be 8 or more): \")\n",
        "\n",
        "  len <- suppressWarnings(as.integer(input))\n",
        "\n",
        "  if (!is.na(len) && len >= 8) {\n",
        "    generated_password <- generate_password(len)\n",
        "    cat(\"\\nGenerated Password:\", generated_password, \"\\n\")\n",
        "    break\n",
        "  } else {\n",
        "    cat(\"Invalid input. Please enter a whole number that is 8 or greater.\\n\\n\")\n",
        "  }\n",
        "}\n",
        "\n"
      ],
      "metadata": {
        "colab": {
          "base_uri": "https://localhost:8080/"
        },
        "id": "e7lZMkG5WdFU",
        "outputId": "8d659b25-9432-47da-f889-f720aed3ae49"
      },
      "execution_count": 7,
      "outputs": [
        {
          "output_type": "stream",
          "name": "stdout",
          "text": [
            "Enter password length (must be 8 or more): 7\n",
            "Enter password length (must be 8 or more): 12\n",
            "Invalid input. Please enter a whole number that is 8 or greater.\n",
            "\n",
            "\n",
            "Generated Password: 0>[v<~fS4Rwt \n"
          ]
        }
      ]
    },
    {
      "cell_type": "code",
      "source": [
        "#Series Summation Develop a program to calculate the sum of the series: 1 - 2/3 + 3/5 - 4/7 + ... up to a specified number of terms. Allow\n",
        "#the user to input the number of terms in the series.\n",
        "\n",
        "calculate_series_sum <- function(n) {\n",
        "  total_sum <- 0\n",
        "  for (i in 1:n) {\n",
        "    term <- i / (2 * i - 1)\n",
        "    if (i %% 2 == 1) { # Odd terms are added\n",
        "      total_sum <- total_sum + term\n",
        "    } else { # Even terms are subtracted\n",
        "      total_sum <- total_sum - term\n",
        "    }\n",
        "  }\n",
        "  return(total_sum)\n",
        "}\n",
        "\n",
        "repeat {\n",
        "  input <- readline(prompt = \"Enter the number of terms (a positive whole number): \")\n",
        "\n",
        "  num_terms <- suppressWarnings(as.integer(input))\n",
        "\n",
        "  if (!is.na(num_terms) && num_terms > 0) {\n",
        "    result <- calculate_series_sum(num_terms)\n",
        "    cat(\"\\nThe sum of the series up to\", num_terms, \"terms is:\", round(result, 4), \"\\n\")\n",
        "    break\n",
        "  } else {\n",
        "    cat(\"Invalid input. Please enter a positive whole number.\\n\\n\")\n",
        "  }\n",
        "}"
      ],
      "metadata": {
        "id": "atQQp2PVWi5X"
      },
      "execution_count": null,
      "outputs": []
    },
    {
      "cell_type": "code",
      "source": [
        "Prime Number Checker Write a program to check whether a given\n",
        "number is prime or not. Implement this using both loops and functions.\n",
        "Additionally, allow the user to input a range and identify all prime\n",
        "numbers within that range.\n",
        "------------------------------------------------------------------------\n",
        "check_prime <- function(num){\n",
        "  count=0\n",
        "  if (num<=1){\n",
        "      return (FALSE)\n",
        "    }\n",
        "  for( i in 1:num){\n",
        "\n",
        "    if (num%%i==0){\n",
        "      count=count+1\n",
        "    }\n",
        "  }\n",
        "  if (count<=2){\n",
        "    return (TRUE)\n",
        "  } else{\n",
        "    return(FALSE)\n",
        "  }\n",
        "\n",
        "}\n",
        "n=as.numeric(readline(prompt =\"Enter the number to check whether its prime or not:\" ))\n",
        "cat(check_prime(n),\"\\n\")\n",
        "\n",
        "no = as.numeric(readline(prompt=\"Enter a number: \"))\n",
        "\n",
        "if (no <= 1) {\n",
        "  cat(\"Not a prime number\\n\")\n",
        "} else {\n",
        "  is_prime <- TRUE\n",
        "  for (i in 2:(no-1)) {\n",
        "    if (no %% i == 0) {\n",
        "      cat(\"The number is NOT prime\\n\")\n",
        "      is_prime <- FALSE\n",
        "      break\n",
        "    }\n",
        "  }\n",
        "  if (is_prime) {\n",
        "    cat(\"The number is PRIME\\n\")\n",
        "  }\n",
        "}\n",
        "\n",
        "range_prime <- function (num1,num2){\n",
        "  count=0\n",
        "  if (num1<=1  && num2<=1){\n",
        "    cat(\"There are no prime numbers in the given range\")\n",
        "  }else{\n",
        "    count = 0\n",
        "    for (i in num1:num2){\n",
        "      if (check_prime(i)){\n",
        "        cat(i,\" \")\n",
        "      }\n",
        "    }\n",
        " }\n",
        " cat(\"\\n\")\n",
        "}\n",
        "up=as.numeric(readline(prompt=\"Enter the upper limit:\"))\n",
        "low=as.numeric(readline(prompt = \"Enter the lower limit:\"))\n",
        "range_prime(up,low)"
      ],
      "metadata": {
        "id": "Zpu4Y45pWkBp"
      },
      "execution_count": null,
      "outputs": []
    },
    {
      "cell_type": "code",
      "source": [
        "Fibonacci Series with a Twist Develop a program to generate the\n",
        "Fibonacci series, but with a twist. Allow the user to input the number of\n",
        "terms and generate the series where each term is the sum of the last\n",
        "three terms.\n",
        "------------------------------------------------------------------------------------\n",
        "fib <- function (terms){\n",
        "  t0=0\n",
        "  t1=1\n",
        "  t2=1\n",
        "  if (terms >= 1) cat(t0, \" \")\n",
        "  if (terms >= 2) cat(t1, \" \")\n",
        "  if (terms >= 3) cat(t2, \" \")\n",
        "  if (terms>3){\n",
        "    for (i in 3:(terms-1)){\n",
        "\n",
        "      t=t0+t1+t2\n",
        "      cat(t,\" \")\n",
        "      t0=t1\n",
        "      t1=t2\n",
        "      t2=t\n",
        "\n",
        "    }\n",
        "    }\n",
        "}\n",
        "terms=as.numeric(readline(prompt = \"Enter the number of terms:\"))\n",
        "fib(terms)"
      ],
      "metadata": {
        "id": "3cBQjoW7WmUl"
      },
      "execution_count": null,
      "outputs": []
    },
    {
      "cell_type": "code",
      "source": [
        "Palindrome Checker Write a program that reads a string and checks if\n",
        "its a palindrome. A palindrome is a string that reads the same forwards\n",
        "and backwards, ignoring spaces and punctuation.\n",
        "---------------------------------------------------------------------------\n",
        "palindrome_checker <- function(string){\n",
        "  string_new <- tolower(gsub(\"[[:punct:] [:space:]]\",\"\",string))\n",
        "  string_vector <- unlist(strsplit(string_new,\"\"))\n",
        "  palindrome <- rev(string_vector)\n",
        "  palindrome_string <-paste(palindrome, collapse = \"\")\n",
        "  if (string_new==palindrome_string){\n",
        "    cat(\"The entered string is a palindrome\")\n",
        "  } else{\n",
        "    cat(\"The entered string is not a palindrome\")\n",
        "  }\n",
        "}\n",
        "palindrome_checker(\"malayalam\")"
      ],
      "metadata": {
        "id": "Bz48Er9DWpWD"
      },
      "execution_count": null,
      "outputs": []
    },
    {
      "cell_type": "code",
      "source": [
        "Data Compression Design a program to read a string and compress it\n",
        "using run-length encoding. In run-length encoding, consecutive\n",
        "repeated characters are replaced with a single character followed by\n",
        "the count of occurrences.\n",
        "---------------------------------------------------------------------------\n",
        "compression <- function(string){\n",
        "\n",
        "  occurence_vector <-c()\n",
        "  string_vector <-unlist(strsplit(string,\"\"))\n",
        "  for (i in (1:length(string_vector))){\n",
        "    occurrence <-0\n",
        "    char <-string_vector[i]\n",
        "    if(char %in% occurence_vector){\n",
        "      next\n",
        "    }\n",
        "    for (j in (1:length(string_vector))){\n",
        "      if (char==string_vector[j]){\n",
        "        occurrence=occurrence+1\n",
        "      }\n",
        "    }\n",
        "    occurence_vector <-c(occurence_vector,\" \",char,\":\",occurrence)\n",
        "  }\n",
        "  return(occurence_vector)\n",
        "}\n",
        "cat(compression(\"She speaks four languages\"))"
      ],
      "metadata": {
        "id": "W3ENc-FPWp8P"
      },
      "execution_count": null,
      "outputs": []
    },
    {
      "cell_type": "code",
      "source": [
        "Data Reversal Write a program to reverse the order of elements\n",
        "in a given list. Implement this without using any built-in functions or\n",
        "loops\n",
        "--------------------------------------------------------------------------\n",
        "reverse_list<-function(l){\n",
        "  if (length(l)==1 || length(l)==0){\n",
        "    return(l)\n",
        "  }\n",
        "  remaining_reversed <- reverse_list(l[-1])\n",
        "  return (c(remaining_reversed,l[1]))\n",
        "\n",
        "}\n",
        "cat(\"Reversed list:\",unlist(reverse_list(list(1,2,3,4))))"
      ],
      "metadata": {
        "id": "1B1TfoxjWrRz"
      },
      "execution_count": null,
      "outputs": []
    }
  ]
}
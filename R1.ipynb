{
  "nbformat": 4,
  "nbformat_minor": 0,
  "metadata": {
    "colab": {
      "provenance": [],
      "authorship_tag": "ABX9TyOYpvGgpQQJTozokCFeQyRM",
      "include_colab_link": true
    },
    "kernelspec": {
      "name": "ir",
      "display_name": "R"
    },
    "language_info": {
      "name": "R"
    }
  },
  "cells": [
    {
      "cell_type": "markdown",
      "metadata": {
        "id": "view-in-github",
        "colab_type": "text"
      },
      "source": [
        "<a href=\"https://colab.research.google.com/github/Thejuskuku/R-for-DataScience/blob/main/R1.ipynb\" target=\"_parent\"><img src=\"https://colab.research.google.com/assets/colab-badge.svg\" alt=\"Open In Colab\"/></a>"
      ]
    },
    {
      "cell_type": "code",
      "execution_count": 4,
      "metadata": {
        "colab": {
          "base_uri": "https://localhost:8080/"
        },
        "id": "kVZtCtyd4LkI",
        "outputId": "780bd745-db48-459e-c09f-f66c20012f82"
      },
      "outputs": [
        {
          "output_type": "stream",
          "name": "stdout",
          "text": [
            "Total number of words: 18 \n",
            "Average word length: 6.555556 \n",
            "Longest word: visualization \n",
            "Paragraph after replacement:\n",
            " R is a powerful programming language and free software environment designed specifically for statistical computing and data visualization. \n"
          ]
        }
      ],
      "source": [
        "#Develop a program to read a paragraph of text and perform the following tasks:\n",
        "#  a. Count the total number of words.\n",
        "#  b. Calculate the average word length.\n",
        "#  c. Identify and print the longest word.\n",
        "#  d. Replace all occurrences of a specific word with another word of your choice.\n",
        "\n",
        "process_paragraph <- function(paragraph, word_to_replace, replacement_word) {\n",
        "\n",
        "  words <- unlist(strsplit(paragraph, \"\\\\W+\"))\n",
        "  words <- words[words != \"\"]\n",
        "\n",
        "  total_words <- length(words)\n",
        "\n",
        "  word_lengths <- nchar(words)\n",
        "  avg_word_length <- mean(word_lengths)\n",
        "\n",
        "  longest_word <- words[which.max(word_lengths)]\n",
        "\n",
        "  replaced_paragraph <- gsub(paste0(\"\\\\b\", word_to_replace, \"\\\\b\"), replacement_word, paragraph)\n",
        "\n",
        "  cat(\"Total number of words:\", total_words, \"\\n\")\n",
        "  cat(\"Average word length:\", avg_word_length, \"\\n\")\n",
        "  cat(\"Longest word:\", longest_word, \"\\n\")\n",
        "  cat(\"Paragraph after replacement:\\n\", replaced_paragraph, \"\\n\")\n",
        "}\n",
        "\n",
        "paragraph <- \"R is a useful programming language and free software environment designed specifically for statistical computing and data visualization.\"\n",
        "word_to_replace <- \"useful\"\n",
        "replacement_word <- \"powerful\"\n",
        "\n",
        "process_paragraph(paragraph, word_to_replace, replacement_word)\n"
      ]
    },
    {
      "cell_type": "code",
      "source": [
        "#String Encryption Write a program that reads a sentence from the user and encrypts it using a simple Caesar cipher. The user can specify the\n",
        "#shift value. Implement the encryption such that only alphabetic characters are shifted, while maintaining their case.\n",
        "\n",
        "caesar_cipher <- function(text, shift) {\n",
        "\n",
        "  chars <- strsplit(text, NULL)[[1]]\n",
        "\n",
        "  shift_char <- function(ch, shift) {\n",
        "    if (grepl(\"[A-Z]\", ch)) {\n",
        "      return(intToUtf8(((utf8ToInt(ch) - utf8ToInt(\"A\") + shift) %% 26) + utf8ToInt(\"A\")))\n",
        "    } else if (grepl(\"[a-z]\", ch)) {\n",
        "      return(intToUtf8(((utf8ToInt(ch) - utf8ToInt(\"a\") + shift) %% 26) + utf8ToInt(\"a\")))\n",
        "    } else {\n",
        "      return(ch)\n",
        "    }\n",
        "  }\n",
        "\n",
        "  encrypted <- sapply(chars, shift_char, shift = shift)\n",
        "\n",
        "  return(paste(encrypted, collapse = \"\"))\n",
        "}\n",
        "\n",
        "sentence <- readline(prompt = \"Enter a sentence: \")\n",
        "\n",
        "shift_value <- as.integer(readline(prompt = \"Enter shift value: \"))\n",
        "\n",
        "encrypted_sentence <- caesar_cipher(sentence, shift_value)\n",
        "\n",
        "cat(\"\\nOriginal Sentence: \", sentence, \"\\n\")\n",
        "cat(\"Encrypted Sentence:\", encrypted_sentence, \"\\n\")"
      ],
      "metadata": {
        "id": "_dXrwPOzVkDo"
      },
      "execution_count": null,
      "outputs": []
    }
  ]
}
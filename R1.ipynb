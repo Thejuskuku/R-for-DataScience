{
  "nbformat": 4,
  "nbformat_minor": 0,
  "metadata": {
    "colab": {
      "provenance": [],
      "authorship_tag": "ABX9TyOPmUFR6y7NTuTwOSpxDxEX",
      "include_colab_link": true
    },
    "kernelspec": {
      "name": "ir",
      "display_name": "R"
    },
    "language_info": {
      "name": "R"
    }
  },
  "cells": [
    {
      "cell_type": "markdown",
      "metadata": {
        "id": "view-in-github",
        "colab_type": "text"
      },
      "source": [
        "<a href=\"https://colab.research.google.com/github/Thejuskuku/R-for-DataScience/blob/main/R1.ipynb\" target=\"_parent\"><img src=\"https://colab.research.google.com/assets/colab-badge.svg\" alt=\"Open In Colab\"/></a>"
      ]
    },
    {
      "cell_type": "code",
      "execution_count": 4,
      "metadata": {
        "colab": {
          "base_uri": "https://localhost:8080/"
        },
        "id": "kVZtCtyd4LkI",
        "outputId": "780bd745-db48-459e-c09f-f66c20012f82"
      },
      "outputs": [
        {
          "output_type": "stream",
          "name": "stdout",
          "text": [
            "Total number of words: 18 \n",
            "Average word length: 6.555556 \n",
            "Longest word: visualization \n",
            "Paragraph after replacement:\n",
            " R is a powerful programming language and free software environment designed specifically for statistical computing and data visualization. \n"
          ]
        }
      ],
      "source": [
        "#Develop a program to read a paragraph of text and perform the following tasks:\n",
        "#  a. Count the total number of words.\n",
        "#  b. Calculate the average word length.\n",
        "#  c. Identify and print the longest word.\n",
        "#  d. Replace all occurrences of a specific word with another word of your choice.\n",
        "\n",
        "process_paragraph <- function(paragraph, word_to_replace, replacement_word) {\n",
        "\n",
        "  words <- unlist(strsplit(paragraph, \"\\\\W+\"))\n",
        "  words <- words[words != \"\"]\n",
        "\n",
        "  total_words <- length(words)\n",
        "\n",
        "  word_lengths <- nchar(words)\n",
        "  avg_word_length <- mean(word_lengths)\n",
        "\n",
        "  longest_word <- words[which.max(word_lengths)]\n",
        "\n",
        "  replaced_paragraph <- gsub(paste0(\"\\\\b\", word_to_replace, \"\\\\b\"), replacement_word, paragraph)\n",
        "\n",
        "  cat(\"Total number of words:\", total_words, \"\\n\")\n",
        "  cat(\"Average word length:\", avg_word_length, \"\\n\")\n",
        "  cat(\"Longest word:\", longest_word, \"\\n\")\n",
        "  cat(\"Paragraph after replacement:\\n\", replaced_paragraph, \"\\n\")\n",
        "}\n",
        "\n",
        "paragraph <- \"R is a useful programming language and free software environment designed specifically for statistical computing and data visualization.\"\n",
        "word_to_replace <- \"useful\"\n",
        "replacement_word <- \"powerful\"\n",
        "\n",
        "process_paragraph(paragraph, word_to_replace, replacement_word)\n"
      ]
    },
    {
      "cell_type": "code",
      "source": [
        "#String Encryption Write a program that reads a sentence from the user and encrypts it using a simple Caesar cipher. The user can specify the\n",
        "#shift value. Implement the encryption such that only alphabetic characters are shifted, while maintaining their case.\n",
        "\n",
        "caesar_cipher <- function(text, shift) {\n",
        "  codes <- utf8ToInt(text)\n",
        "\n",
        "  a <- utf8ToInt('a')\n",
        "  z <- utf8ToInt('z')\n",
        "  A <- utf8ToInt('A')\n",
        "  Z <- utf8ToInt('Z')\n",
        "\n",
        "  lower_chars <- codes >= a & codes <= z\n",
        "  codes[lower_chars] <- ((codes[lower_chars] - a + shift) %% 26) + a\n",
        "\n",
        "  upper_chars <- codes >= A & codes <= Z\n",
        "  codes[upper_chars] <- ((codes[upper_chars] - A + shift) %% 26) + A\n",
        "\n",
        "  return(intToUtf8(codes))\n",
        "}\n",
        "\n",
        "sentence <- readline(prompt = \"Enter a sentence: \")\n",
        "shift_value <- as.integer(readline(prompt = \"Enter shift value: \"))\n",
        "\n",
        "encrypted_sentence <- caesar_cipher(sentence, shift_value)\n",
        "\n",
        "cat(\"\\nOriginal Sentence: \", sentence, \"\\n\")\n",
        "cat(\"Encrypted Sentence:\", encrypted_sentence, \"\\n\")"
      ],
      "metadata": {
        "colab": {
          "base_uri": "https://localhost:8080/"
        },
        "id": "_dXrwPOzVkDo",
        "outputId": "82feeb47-ea7d-4740-c3aa-5679f10ae9e6"
      },
      "execution_count": 5,
      "outputs": [
        {
          "output_type": "stream",
          "name": "stdout",
          "text": [
            "Enter a sentence: Hello, World! 123\n",
            "Enter shift value: 3\n",
            "\n",
            "Original Sentence:  Hello, World! 123 \n",
            "Encrypted Sentence: Khoor, Zruog! 123 \n"
          ]
        }
      ]
    },
    {
      "cell_type": "code",
      "source": [
        "#Data Validation and User Input Develop a program to read student records with their names, ages, and grades. Implement validation\n",
        "#checks: a. Ensure age is a positive integer. b. Ensure grade is a valid letter grade (A, B, C, D, F). c. Calculate and display the average age\n",
        "#of students with valid records.\n",
        "\n",
        "is_positive_integer <- function(x) {\n",
        "  return(grepl(\"^\\\\d+$\", x) && as.integer(x) > 0)\n",
        "}\n",
        "\n",
        "is_valid_grade <- function(grade) {\n",
        "  return(toupper(grade) %in% c(\"A\", \"B\", \"C\", \"D\", \"F\"))\n",
        "}\n",
        "\n",
        "names_list <- list()\n",
        "ages_list <- list()\n",
        "grades_list <- list()\n",
        "\n",
        "cat(\"--- Student Record Entry ---\\n\")\n",
        "cat(\"Enter student details. Press [Enter] on a blank name to finish.\\n\\n\")\n",
        "\n",
        "while (TRUE) {\n",
        "  name <- readline(prompt = \"Enter name (or leave blank to finish): \")\n",
        "\n",
        "  if (name == \"\") {\n",
        "    break\n",
        "  }\n",
        "\n",
        "  age_input <- readline(prompt = \"Enter age: \")\n",
        "  grade_input <- readline(prompt = \"Enter grade (A/B/C/D/F): \")\n",
        "\n",
        "  if (!is_positive_integer(age_input)) {\n",
        "    cat(\"Error: Invalid age '\", age_input, \"'. Age must be a positive whole number. Record skipped.\\n\\n\", sep = \"\")\n",
        "    next\n",
        "  }\n",
        "\n",
        "  if (!is_valid_grade(grade_input)) {\n",
        "    cat(\"Error: Invalid grade '\", grade_input, \"'. Grade must be A, B, C, D, or F. Record skipped.\\n\\n\", sep = \"\")\n",
        "    next\n",
        "  }\n",
        "\n",
        "  names_list <- append(names_list, name)\n",
        "  ages_list <- append(ages_list, as.integer(age_input))\n",
        "  grades_list <- append(grades_list, toupper(grade_input))\n",
        "\n",
        "  cat(\"Success: Record for '\", name, \"' saved.\\n\\n\", sep = \"\")\n",
        "}\n",
        "\n",
        "if (length(names_list) > 0) {\n",
        "  students <- data.frame(\n",
        "    Name = unlist(names_list),\n",
        "    Age = unlist(ages_list),\n",
        "    Grade = unlist(grades_list)\n",
        "  )\n",
        "\n",
        "  cat(\"\\n--- Valid Student Records ---\\n\")\n",
        "  print(students)\n",
        "\n",
        "  avg_age <- mean(students$Age)\n",
        "  cat(\"\\nAverage Age of Valid Students:\", round(avg_age, 2), \"\\n\")\n",
        "\n",
        "} else {\n",
        "  cat(\"\\nNo valid student records were entered.\\n\")\n",
        "}"
      ],
      "metadata": {
        "colab": {
          "base_uri": "https://localhost:8080/"
        },
        "id": "uG39zutAWOqg",
        "outputId": "fadd5dbe-1242-434b-96fc-a48ad7ec8073"
      },
      "execution_count": 6,
      "outputs": [
        {
          "output_type": "stream",
          "name": "stdout",
          "text": [
            "--- Student Record Entry ---\n",
            "Enter student details. Press [Enter] on a blank name to finish.\n",
            "\n",
            "Enter name (or leave blank to finish): Thejus\n",
            "Enter age: 20\n",
            "Enter grade (A/B/C/D/F): A\n",
            "Enter name (or leave blank to finish): Bob\n",
            "Enter age: 21\n",
            "Enter grade (A/B/C/D/F): C\n",
            "Enter name (or leave blank to finish): \n",
            "Success: Record for 'Thejus' saved.\n",
            "\n",
            "Success: Record for 'Bob' saved.\n",
            "\n",
            "\n",
            "--- Valid Student Records ---\n",
            "    Name Age Grade\n",
            "1 Thejus  20     A\n",
            "2    Bob  21     C\n",
            "\n",
            "Average Age of Valid Students: 20.5 \n"
          ]
        }
      ]
    },
    {
      "cell_type": "code",
      "source": [
        "#Password Generator Write a program to generate a random password for a user. The password should include a mix of uppercase letters,\n",
        "#lowercase letters, digits, and special characters. Allow the user to specify the length of the password.\n",
        "\n",
        "generate_password <- function(length) {\n",
        "  lowercase_letters <- letters\n",
        "  uppercase_letters <- LETTERS\n",
        "  numbers <- 0:9\n",
        "  special_characters <- strsplit(\"!@#$%^&*()_+-=[]{}|;:,.<>/?~\", \"\")[[1]]\n",
        "\n",
        "  guaranteed_chars <- c(\n",
        "    sample(lowercase_letters, 1),\n",
        "    sample(uppercase_letters, 1),\n",
        "    sample(numbers, 1),\n",
        "    sample(special_characters, 1)\n",
        "  )\n",
        "  all_chars <- c(lowercase_letters, uppercase_letters, numbers, special_characters)\n",
        "  remaining_length <- length - length(guaranteed_chars)\n",
        "  remaining_chars <- sample(all_chars, remaining_length, replace = TRUE)\n",
        "  password_pool <- c(guaranteed_chars, remaining_chars)\n",
        "  final_password <- paste(sample(password_pool), collapse = \"\")\n",
        "  return(final_password)\n",
        "}\n",
        "\n",
        "repeat {\n",
        "  input <- readline(prompt = \"Enter password length (must be 8 or more): \")\n",
        "\n",
        "  len <- suppressWarnings(as.integer(input))\n",
        "\n",
        "  if (!is.na(len) && len >= 8) {\n",
        "    generated_password <- generate_password(len)\n",
        "    cat(\"\\nGenerated Password:\", generated_password, \"\\n\")\n",
        "    break\n",
        "  } else {\n",
        "    cat(\"Invalid input. Please enter a whole number that is 8 or greater.\\n\\n\")\n",
        "  }\n",
        "}\n",
        "\n"
      ],
      "metadata": {
        "colab": {
          "base_uri": "https://localhost:8080/"
        },
        "id": "e7lZMkG5WdFU",
        "outputId": "8d659b25-9432-47da-f889-f720aed3ae49"
      },
      "execution_count": 7,
      "outputs": [
        {
          "output_type": "stream",
          "name": "stdout",
          "text": [
            "Enter password length (must be 8 or more): 7\n",
            "Enter password length (must be 8 or more): 12\n",
            "Invalid input. Please enter a whole number that is 8 or greater.\n",
            "\n",
            "\n",
            "Generated Password: 0>[v<~fS4Rwt \n"
          ]
        }
      ]
    },
    {
      "cell_type": "code",
      "source": [
        "#Series Summation Develop a program to calculate the sum of the series: 1 - 2/3 + 3/5 - 4/7 + ... up to a specified number of terms. Allow\n",
        "#the user to input the number of terms in the series.\n",
        "\n",
        "calculate_series_sum <- function(n) {\n",
        "  total_sum <- 0\n",
        "  for (i in 1:n) {\n",
        "    term <- i / (2 * i - 1)\n",
        "    if (i %% 2 == 1) { # Odd terms are added\n",
        "      total_sum <- total_sum + term\n",
        "    } else { # Even terms are subtracted\n",
        "      total_sum <- total_sum - term\n",
        "    }\n",
        "  }\n",
        "  return(total_sum)\n",
        "}\n",
        "\n",
        "repeat {\n",
        "  input <- readline(prompt = \"Enter the number of terms (a positive whole number): \")\n",
        "\n",
        "  num_terms <- suppressWarnings(as.integer(input))\n",
        "\n",
        "  if (!is.na(num_terms) && num_terms > 0) {\n",
        "    result <- calculate_series_sum(num_terms)\n",
        "    cat(\"\\nThe sum of the series up to\", num_terms, \"terms is:\", round(result, 4), \"\\n\")\n",
        "    break\n",
        "  } else {\n",
        "    cat(\"Invalid input. Please enter a positive whole number.\\n\\n\")\n",
        "  }\n",
        "}"
      ],
      "metadata": {
        "colab": {
          "base_uri": "https://localhost:8080/"
        },
        "id": "atQQp2PVWi5X",
        "outputId": "b10283fb-7941-48bc-9cc9-20c8983875e3"
      },
      "execution_count": 8,
      "outputs": [
        {
          "output_type": "stream",
          "name": "stdout",
          "text": [
            "Enter the number of terms (a positive whole number): 5\n",
            "\n",
            "The sum of the series up to 5 terms is: 0.9175 \n"
          ]
        }
      ]
    },
    {
      "cell_type": "code",
      "source": [
        "#Prime Number Checker Write a program to check whether a given number is prime or not. Implement this using both loops and functions.\n",
        "#Additionally, allow the user to input a range and identify all prime numbers within that range.\n",
        "\n",
        "is_prime <- function(n) {\n",
        "  if (n <= 1) {\n",
        "    return(FALSE)\n",
        "  }\n",
        "  if (n == 2) {\n",
        "    return(TRUE)\n",
        "  }\n",
        "  if (n %% 2 == 0) {\n",
        "    return(FALSE)\n",
        "  }\n",
        "\n",
        "  limit <- floor(sqrt(n))\n",
        "\n",
        "  if (limit < 3) {\n",
        "      return(TRUE)\n",
        "  }\n",
        "\n",
        "  for (i in seq(3, limit, by = 2)) {\n",
        "    if (n %% i == 0) {\n",
        "      return(FALSE)\n",
        "    }\n",
        "  }\n",
        "  return(TRUE)\n",
        "}\n",
        "\n",
        "get_positive_integer <- function(prompt_message) {\n",
        "  repeat {\n",
        "    input <- readline(prompt = prompt_message)\n",
        "    num <- suppressWarnings(as.integer(input))\n",
        "    if (!is.na(num) && num > 0) {\n",
        "      return(num)\n",
        "    } else {\n",
        "      cat(\"Invalid input. Please enter a positive whole number.\\n\")\n",
        "    }\n",
        "  }\n",
        "}\n",
        "\n",
        "# Part 1: Check a single number\n",
        "cat(\"--- Part 1: Prime Number Checker ---\\n\")\n",
        "number_to_check <- get_positive_integer(\"Enter a number to check: \")\n",
        "if (is_prime(number_to_check)) {\n",
        "  cat(number_to_check, \"is a prime number.\\n\\n\")\n",
        "} else {\n",
        "  cat(number_to_check, \"is not a prime number.\\n\\n\")\n",
        "}\n",
        "\n",
        "# Part 2: Find primes in a range\n",
        "cat(\"--- Part 2: Find Prime Numbers in a Range ---\\n\")\n",
        "repeat {\n",
        "    lower_bound <- get_positive_integer(\"Enter the starting number: \")\n",
        "    upper_bound <- get_positive_integer(\"Enter the ending number: \")\n",
        "    if (lower_bound <= upper_bound) {\n",
        "        break\n",
        "    } else {\n",
        "        cat(\"Error: The starting number must not be greater than the ending number.\\n\\n\")\n",
        "    }\n",
        "}\n",
        "\n",
        "primes_found <- c()\n",
        "for (num in lower_bound:upper_bound) {\n",
        "  if (is_prime(num)) {\n",
        "    primes_found <- c(primes_found, num)\n",
        "  }\n",
        "}\n",
        "\n",
        "if (length(primes_found) > 0) {\n",
        "  cat(\"\\nPrime numbers between\", lower_bound, \"and\", upper_bound, \"are:\\n\")\n",
        "  cat(paste(primes_found, collapse = \", \"), \"\\n\")\n",
        "} else {\n",
        "  cat(\"\\nNo prime numbers were found between\", lower_bound, \"and\", upper_bound, \".\\n\")\n",
        "}\n",
        "\n",
        "\n"
      ],
      "metadata": {
        "colab": {
          "base_uri": "https://localhost:8080/"
        },
        "id": "Zpu4Y45pWkBp",
        "outputId": "fd2514a1-14d2-4cdb-f9be-bd63de84cd1c"
      },
      "execution_count": 12,
      "outputs": [
        {
          "output_type": "stream",
          "name": "stdout",
          "text": [
            "--- Part 1: Prime Number Checker ---\n",
            "Enter a number to check: 7\n",
            "7 is a prime number.\n",
            "\n",
            "--- Part 2: Find Prime Numbers in a Range ---\n",
            "Enter the starting number: 2\n",
            "Enter the ending number: 9\n",
            "\n",
            "Prime numbers between 2 and 9 are:\n",
            "2, 3, 5, 7 \n"
          ]
        }
      ]
    },
    {
      "cell_type": "code",
      "source": [
        "#Fibonacci Series with a Twist Develop a program to generate the Fibonacci series, but with a twist. Allow the user to input the number of\n",
        "#terms and generate the series where each term is the sum of the last three terms.\n",
        "\n",
        "fib <- function (terms){\n",
        "  t0=0\n",
        "  t1=1\n",
        "  t2=1\n",
        "  if (terms >= 1) cat(t0, \" \")\n",
        "  if (terms >= 2) cat(t1, \" \")\n",
        "  if (terms >= 3) cat(t2, \" \")\n",
        "  if (terms>3){\n",
        "    for (i in 3:(terms-1)){\n",
        "\n",
        "      t=t0+t1+t2\n",
        "      cat(t,\" \")\n",
        "      t0=t1\n",
        "      t1=t2\n",
        "      t2=t\n",
        "\n",
        "    }\n",
        "    }\n",
        "}\n",
        "terms=as.numeric(readline(prompt = \"Enter the number of terms:\"))\n",
        "fib(terms)"
      ],
      "metadata": {
        "colab": {
          "base_uri": "https://localhost:8080/"
        },
        "id": "3cBQjoW7WmUl",
        "outputId": "66e9af1e-0fc6-464a-9e3a-7ae076a6191e"
      },
      "execution_count": 13,
      "outputs": [
        {
          "output_type": "stream",
          "name": "stdout",
          "text": [
            "Enter the number of terms:12\n",
            "0  1  1  2  4  7  13  24  44  81  149  274  "
          ]
        }
      ]
    },
    {
      "cell_type": "code",
      "source": [
        "#Palindrome Checker Write a program that reads a string and checks if its a palindrome. A palindrome is a string that reads the same forwards\n",
        "#and backwards, ignoring spaces and punctuation.\n",
        "\n",
        "palindrome_checker <- function(string){\n",
        "  string_new <- tolower(gsub(\"[[:punct:] [:space:]]\",\"\",string))\n",
        "  string_vector <- unlist(strsplit(string_new,\"\"))\n",
        "  palindrome <- rev(string_vector)\n",
        "  palindrome_string <-paste(palindrome, collapse = \"\")\n",
        "  if (string_new==palindrome_string){\n",
        "    cat(\"The entered string is a palindrome\")\n",
        "  } else{\n",
        "    cat(\"The entered string is not a palindrome\")\n",
        "  }\n",
        "}\n",
        "palindrome_checker(\"malayalam\")"
      ],
      "metadata": {
        "colab": {
          "base_uri": "https://localhost:8080/"
        },
        "id": "Bz48Er9DWpWD",
        "outputId": "fff9de3d-b6dd-4c3f-c1bc-b8291fa1cbb7"
      },
      "execution_count": 14,
      "outputs": [
        {
          "output_type": "stream",
          "name": "stdout",
          "text": [
            "The entered string is a palindrome"
          ]
        }
      ]
    },
    {
      "cell_type": "code",
      "source": [
        "#Data Compression Design a program to read a string and compress it using run-length encoding. In run-length encoding, consecutive\n",
        "#repeated characters are replaced with a single character followed by the count of occurrences.\n",
        "\n",
        "count_characters <- function(input_string) {\n",
        "  if (nchar(input_string) == 0) {\n",
        "    return(\"Input string is empty.\")\n",
        "  }\n",
        "\n",
        "  chars <- strsplit(input_string, \"\")[[1]]\n",
        "\n",
        "  char_counts <- as.data.frame(table(chars))\n",
        "\n",
        "  colnames(char_counts) <- c(\"Character\", \"Frequency\")\n",
        "\n",
        "  return(char_counts)\n",
        "}\n",
        "\n",
        "user_input <- readline(prompt = \"Enter a string to count its characters: \")\n",
        "\n",
        "result <- count_characters(user_input)\n",
        "\n",
        "cat(\"\\n--- Character Frequencies ---\\n\")\n",
        "print(result)"
      ],
      "metadata": {
        "colab": {
          "base_uri": "https://localhost:8080/"
        },
        "id": "W3ENc-FPWp8P",
        "outputId": "3d425f1e-0e3c-454a-c000-f3fef921a702"
      },
      "execution_count": 17,
      "outputs": [
        {
          "output_type": "stream",
          "name": "stdout",
          "text": [
            "Enter a string to count its characters: R programming is fun! 123!\n",
            "\n",
            "--- Character Frequencies ---\n",
            "   Character Frequency\n",
            "1                    4\n",
            "2          !         2\n",
            "3          1         1\n",
            "4          2         1\n",
            "5          3         1\n",
            "6          a         1\n",
            "7          f         1\n",
            "8          g         2\n",
            "9          i         2\n",
            "10         m         2\n",
            "11         n         2\n",
            "12         o         1\n",
            "13         p         1\n",
            "14         r         2\n",
            "15         R         1\n",
            "16         s         1\n",
            "17         u         1\n"
          ]
        }
      ]
    },
    {
      "cell_type": "code",
      "source": [
        "#Data Reversal Write a program to reverse the order of elements in a given list. Implement this without using any built-in functions or loops\n",
        "\n",
        "reverse_list<-function(l){\n",
        "  if (length(l)==1 || length(l)==0){\n",
        "    return(l)\n",
        "  }\n",
        "  remaining_reversed <- reverse_list(l[-1])\n",
        "  return (c(remaining_reversed,l[1]))\n",
        "\n",
        "}\n",
        "cat(\"Reversed list:\",unlist(reverse_list(list(1,2,3,4))))"
      ],
      "metadata": {
        "colab": {
          "base_uri": "https://localhost:8080/"
        },
        "id": "1B1TfoxjWrRz",
        "outputId": "1e2a6cc5-262e-41c1-dc16-2ec1284db42e"
      },
      "execution_count": 16,
      "outputs": [
        {
          "output_type": "stream",
          "name": "stdout",
          "text": [
            "Reversed list: 4 3 2 1"
          ]
        }
      ]
    }
  ]
}